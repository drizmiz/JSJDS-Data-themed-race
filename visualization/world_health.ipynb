{
 "metadata": {
  "language_info": {
   "codemirror_mode": {
    "name": "ipython",
    "version": 3
   },
   "file_extension": ".py",
   "mimetype": "text/x-python",
   "name": "python",
   "nbconvert_exporter": "python",
   "pygments_lexer": "ipython3",
   "version": "3.9.5"
  },
  "orig_nbformat": 2,
  "kernelspec": {
   "name": "python3",
   "display_name": "Python 3.9.5 64-bit"
  },
  "metadata": {
   "interpreter": {
    "hash": "bd4c67ef142469da7dc4d338a32ac40116904d26076b8e6aa587d80720bc6a2b"
   }
  },
  "interpreter": {
   "hash": "bd4c67ef142469da7dc4d338a32ac40116904d26076b8e6aa587d80720bc6a2b"
  }
 },
 "nbformat": 4,
 "nbformat_minor": 2,
 "cells": [
  {
   "cell_type": "code",
   "execution_count": 5,
   "metadata": {},
   "outputs": [
    {
     "output_type": "execute_result",
     "data": {
      "text/plain": [
       "'d:\\\\JSJDS-Data-themed-race\\\\visualization\\\\out\\\\life_expectancy.html'"
      ]
     },
     "metadata": {},
     "execution_count": 5
    }
   ],
   "source": [
    "import pandas as pd\n",
    "import json\n",
    "from pyecharts import options as opts\n",
    "from pyecharts.charts import Timeline, Map, Page\n",
    "from pyecharts.globals import ThemeType\n",
    "import numpy as np\n",
    "with open(\"./data/syno_dict.json\", 'r', encoding='utf-8') as f:\n",
    "    syno_dict = json.load(f)\n",
    "page = Page(page_title='预期寿命')\n",
    "for gender in [\"Male\",\"Female\",\"Both sexes\"]:\n",
    "    tl = Timeline(init_opts=opts.InitOpts(\n",
    "        theme=ThemeType.INFOGRAPHIC,\n",
    "        bg_color='white',\n",
    "        page_title='预期寿命'\n",
    "    ))\n",
    "\n",
    "    df = pd.read_csv('./data/LE.csv')\n",
    "    \n",
    "    for year in [2000, 2010, 2015, 2019]:\n",
    "        map = (\n",
    "            Map()\n",
    "            .add(\"预期寿命\",\n",
    "                [[row[0], row[-1]]\n",
    "                    for _, row in df[(df['Period'] == year) & (df['Dim1'] == gender)].iterrows()],\n",
    "                maptype=\"world\",\n",
    "                is_map_symbol_show=False,  # 不描点\n",
    "                )\n",
    "            .set_series_opts(label_opts=opts.LabelOpts(is_show=False))\n",
    "            .set_global_opts(\n",
    "                title_opts=opts.TitleOpts(title=f\"{year}年预期寿命-\"+gender),\n",
    "                visualmap_opts=opts.VisualMapOpts(min_=df['First Tooltip'].min(),max_=df['First Tooltip'].max()),\n",
    "                toolbox_opts=opts.ToolboxOpts()\n",
    "            )\n",
    "        )\n",
    "        tl.add(map, f\"{year}\")\n",
    "    page.add(tl)\n",
    "page.render(\"./out/life_expectancy.html\")\n"
   ]
  },
  {
   "cell_type": "code",
   "execution_count": 2,
   "metadata": {},
   "outputs": [
    {
     "output_type": "execute_result",
     "data": {
      "text/plain": [
       "'d:\\\\JSJDS-Data-themed-race\\\\visualization\\\\out\\\\UFMR.html'"
      ]
     },
     "metadata": {},
     "execution_count": 2
    }
   ],
   "source": [
    "page = Page(page_title='五岁以下死亡率')\n",
    "for gender in [\"Male\",\"Female\",\"Both sexes\"]:\n",
    "    tl = Timeline(init_opts=opts.InitOpts(\n",
    "        theme=ThemeType.INFOGRAPHIC,\n",
    "        bg_color='white',\n",
    "        page_title='五岁以下死亡率'\n",
    "    ))\n",
    "\n",
    "    df = pd.read_csv('./data/UFMR_m.csv')\n",
    "    for year in [2000, 2010, 2015, 2019]:\n",
    "        map = (\n",
    "            Map()\n",
    "            .add(\"五岁以下每1000人死亡人数            [[row[0], row[-1]]\n",
    "                    for _, row in df[(df['Period'] == year) & (df['Dim1'] == gender)].iterrows()],\n",
    "                maptype=\"world\",\n",
    "                is_map_symbol_show=False,  # 不描点\n",
    "                )\n",
    "            .set_series_opts(label_opts=opts.LabelOpts(is_show=False))\n",
    "            .set_global_opts(\n",
    "                title_opts=opts.TitleOpts(title=f\"{year}年5岁以下死亡率-\"+gender),\n",
    "                visualmap_opts=opts.VisualMapOpts(min_=df['First Tooltip'].min(),max_=df['First Tooltip'].max()),\n",
    "                toolbox_opts=opts.ToolboxOpts()\n",
    "            )\n",
    "        )\n",
    "        tl.add(map, f\"{year}\")\n",
    "    page.add(tl)\n",
    "page.render(\"./out/UFMR.html\")\n"
   ]
  },
  {
   "cell_type": "code",
   "execution_count": 4,
   "metadata": {},
   "outputs": [
    {
     "output_type": "execute_result",
     "data": {
      "text/plain": [
       "'d:\\\\JSJDS-Data-themed-race\\\\visualization\\\\out\\\\life_expectancy.html'"
      ]
     },
     "metadata": {},
     "execution_count": 4
    }
   ],
   "source": [
    "# it's a test\n",
    "import pandas as pd\n",
    "import json\n",
    "from pyecharts import options as opts\n",
    "from pyecharts.charts import Timeline, Map, Page\n",
    "from pyecharts.globals import ThemeType\n",
    "import numpy as np\n",
    "with open(\"./data/syno_dict.json\", 'r', encoding='utf-8') as f:\n",
    "    syno_dict = json.load(f)\n",
    "df = pd.read_csv('./data/LE.csv')\n",
    "\n",
    "page = Page(page_title='预期寿命')\n",
    "tl = Timeline(init_opts=opts.InitOpts(\n",
    "    theme=ThemeType.INFOGRAPHIC,\n",
    "    bg_color='white',\n",
    "    page_title='预期寿命'\n",
    "))\n",
    "\n",
    "for year in [2000, 2010, 2015, 2019]:\n",
    "    map = Map()\n",
    "    for gender in [\"Male\",\"Female\",\"Both sexes\"]:\n",
    "        map.add(\"预期寿命-\"+gender,\n",
    "            [[row[0], row[-1]]\n",
    "                for _, row in df[(df['Period'] == year) & (df['Dim1'] == gender)].iterrows()],\n",
    "            maptype=\"world\",\n",
    "            is_map_symbol_show=False,  # 不描点\n",
    "            )\n",
    "    map.set_series_opts(label_opts=opts.LabelOpts(is_show=False))\n",
    "    map.set_global_opts(\n",
    "        title_opts=opts.TitleOpts(title=f\"{year}年预期寿命-\"+gender),\n",
    "        visualmap_opts=opts.VisualMapOpts(min_=df['First Tooltip'].min(),max_=df['First Tooltip'].max()),\n",
    "        toolbox_opts=opts.ToolboxOpts()\n",
    "    )\n",
    "    tl.add(map, f\"{year}\")\n",
    "page.add(tl)\n",
    "page.render(\"./out/life_expectancy.html\")\n"
   ]
  }
 ]
}